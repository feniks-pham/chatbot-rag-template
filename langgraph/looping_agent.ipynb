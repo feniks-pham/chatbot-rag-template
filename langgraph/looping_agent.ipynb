{
 "cells": [
  {
   "cell_type": "code",
   "execution_count": 40,
   "id": "4ce60125",
   "metadata": {},
   "outputs": [],
   "source": [
    "from typing import TypedDict, NotRequired\n",
    "from langgraph.graph import StateGraph, START, END\n",
    "import random"
   ]
  },
  {
   "cell_type": "code",
   "execution_count": 41,
   "id": "1cb78d2a",
   "metadata": {},
   "outputs": [],
   "source": [
    "class AgentState(TypedDict):\n",
    "    player_name: str\n",
    "    guesses: list[int]\n",
    "    attempts: int\n",
    "    lower_bound: int\n",
    "    upper_bound: int\n",
    "    secret: NotRequired[int]\n",
    "    status: NotRequired[str]"
   ]
  },
  {
   "cell_type": "code",
   "execution_count": 45,
   "id": "75806732",
   "metadata": {},
   "outputs": [],
   "source": [
    "def setup_node(state:AgentState) -> AgentState:\n",
    "    state[\"player_name\"] = f\"Hi there, {state[\"player_name\"]}\"\n",
    "    state[\"attempts\"] = 0\n",
    "    state[\"secret\"] = random.randint(state[\"lower_bound\"], state[\"upper_bound\"])\n",
    "    state[\"status\"] = \"\"\n",
    "    return state\n",
    "\n",
    "def guessing_node(state:AgentState) -> AgentState:\n",
    "    if state[\"status\"] == \"lower\":\n",
    "        state[\"lower_bound\"] = state[\"guesses\"][state[\"attempts\"] - 1] + 1\n",
    "    elif state[\"status\"] == \"higher\":\n",
    "        state[\"upper_bound\"] = state[\"guesses\"][state[\"attempts\"] - 1] - 1\n",
    "    state[\"attempts\"] += 1\n",
    "    guess = random.randint(state[\"lower_bound\"], state[\"upper_bound\"])\n",
    "    print(f\"Attempt {state[\"attempts\"]}: My guess number is {guess}\\n\")\n",
    "    state[\"guesses\"].append(guess)\n",
    "\n",
    "    return state\n",
    "\n",
    "def hint_node(state:AgentState) -> AgentState:\n",
    "    if state[\"guesses\"][state[\"attempts\"] - 1] < state[\"secret\"]:\n",
    "        print(\"Your guess number is lower than secret number\\n\")\n",
    "        state[\"status\"] = \"lower\"\n",
    "    elif state[\"guesses\"][state[\"attempts\"] - 1] > state[\"secret\"]:\n",
    "        print(\"Your guess number is higher than secret number\\n\")\n",
    "        state[\"status\"] = \"higher\"\n",
    "    else:\n",
    "        print(\"Congratulations! Your guess is correct\\n\")\n",
    "        state[\"status\"] = \"correct\"\n",
    "\n",
    "    return state\n",
    "\n",
    "def should_continue(state:AgentState) -> AgentState:\n",
    "    if state[\"status\"] == \"correct\":\n",
    "        return \"exit\"\n",
    "    else:\n",
    "        if state[\"attempts\"] >= 7:\n",
    "            print(f\"You have reached max attempt number. Secret number is {state[\"secret\"]}\")\n",
    "            return \"exit\"\n",
    "        else:\n",
    "            print(\"Please try again!\\n\")\n",
    "            return \"loop\""
   ]
  },
  {
   "cell_type": "code",
   "execution_count": 46,
   "id": "51f57867",
   "metadata": {},
   "outputs": [],
   "source": [
    "graph = StateGraph(AgentState)\n",
    "\n",
    "graph.add_node(\"setup\", setup_node)\n",
    "graph.add_node(\"guess\", guessing_node)\n",
    "graph.add_node(\"hint\", hint_node)\n",
    "graph.add_edge(\"setup\", \"guess\")\n",
    "graph.add_edge(\"guess\", \"hint\")\n",
    "graph.add_conditional_edges(\n",
    "    \"hint\",\n",
    "    should_continue,\n",
    "    {\n",
    "        \"loop\": \"guess\",\n",
    "        \"exit\": END\n",
    "    }\n",
    ")\n",
    "graph.set_entry_point(\"setup\")\n",
    "\n",
    "app = graph.compile()"
   ]
  },
  {
   "cell_type": "code",
   "execution_count": 23,
   "id": "2d174b78",
   "metadata": {},
   "outputs": [
    {
     "data": {
      "image/png": "[encoded data removed]",
      "text/plain": [
       "<IPython.core.display.Image object>"
      ]
     },
     "metadata": {},
     "output_type": "display_data"
    }
   ],
   "source": [
    "from IPython.display import Image, display\n",
    "display(Image(app.get_graph().draw_mermaid_png()))"
   ]
  },
  {
   "cell_type": "code",
   "execution_count": 51,
   "id": "0806689a",
   "metadata": {},
   "outputs": [
    {
     "name": "stdout",
     "output_type": "stream",
     "text": [
      "Attempt 1: My guess number is 6\n",
      "\n",
      "Your guess number is higher than secret number\n",
      "\n",
      "Please try again!\n",
      "\n",
      "Attempt 2: My guess number is 1\n",
      "\n",
      "Your guess number is lower than secret number\n",
      "\n",
      "Please try again!\n",
      "\n",
      "Attempt 3: My guess number is 4\n",
      "\n",
      "Your guess number is higher than secret number\n",
      "\n",
      "Please try again!\n",
      "\n",
      "Attempt 4: My guess number is 3\n",
      "\n",
      "Congratulations! Your guess is correct\n",
      "\n",
      "{'player_name': 'Hi there, Student', 'guesses': [6, 1, 4, 3], 'attempts': 4, 'lower_bound': 2, 'upper_bound': 3, 'secret': 3, 'status': 'correct'}\n"
     ]
    }
   ],
   "source": [
    "initial_state1 = AgentState(player_name=\"Student\", guesses=[], attempts=0, lower_bound=1, upper_bound=20)\n",
    "print(app.invoke(initial_state1))"
   ]
  },
  {
   "cell_type": "code",
   "execution_count": null,
   "id": "28ca478c",
   "metadata": {},
   "outputs": [],
   "source": []
  }
 ],
 "metadata": {
  "kernelspec": {
   "display_name": "venv",
   "language": "python",
   "name": "python3"
  },
  "language_info": {
   "codemirror_mode": {
    "name": "ipython",
    "version": 3
   },
   "file_extension": ".py",
   "mimetype": "text/x-python",
   "name": "python",
   "nbconvert_exporter": "python",
   "pygments_lexer": "ipython3",
   "version": "3.13.4"
  }
 },
 "nbformat": 4,
 "nbformat_minor": 5
}
